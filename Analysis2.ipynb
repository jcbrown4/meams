{
 "cells": [
  {
   "cell_type": "markdown",
   "id": "63c59f73",
   "metadata": {},
   "source": [
    "### Analysis2.ipynb\n",
    "Clustering SBERT embeddings using UMAP and Fuzzy C-Means."
   ]
  },
  {
   "cell_type": "code",
   "execution_count": null,
   "id": "cb219d6e",
   "metadata": {},
   "outputs": [],
   "source": [
    "import os\n",
    "import pandas as pd\n",
    "import numpy as np\n",
    "import matplotlib.pyplot as plt\n",
    "import skfuzzy\n",
    "from sklearn.preprocessing import StandardScaler\n",
    "from sklearn.decomposition import PCA\n",
    "import umap"
   ]
  },
  {
   "cell_type": "code",
   "execution_count": null,
   "id": "0c5694e6",
   "metadata": {},
   "outputs": [],
   "source": [
    "# Set paths\n",
    "root = os.getcwd()\n",
    "input_path = os.path.join(root, 'data', 'SBERT', 'SBERT-L6-v2_embed.csv')\n",
    "output_path = os.path.join(root, 'output')\n",
    "os.makedirs(output_path, exist_ok=True)"
   ]
  },
  {
   "cell_type": "code",
   "execution_count": null,
   "id": "589399df",
   "metadata": {},
   "outputs": [],
   "source": [
    "# Load SBERT embeddings\n",
    "data = pd.read_csv(input_path)\n",
    "embedding = data.values"
   ]
  },
  {
   "cell_type": "code",
   "execution_count": null,
   "id": "7c1d7c3b",
   "metadata": {},
   "outputs": [],
   "source": [
    "# Dimensionality reduction using UMAP\n",
    "umap_model = umap.UMAP(n_neighbors=30, min_dist=0.1, n_components=2, random_state=42)\n",
    "umap_result = umap_model.fit_transform(embedding)"
   ]
  },
  {
   "cell_type": "code",
   "execution_count": null,
   "id": "e618ce6e",
   "metadata": {},
   "outputs": [],
   "source": [
    "# Fuzzy C-Means clustering\n",
    "fuzz_data = umap_result.T\n",
    "n_clusters = 4\n",
    "cntr, u, _, _, _, _, _ = skfuzzy.cluster.cmeans(\n",
    "    fuzz_data, c=n_clusters, m=2, error=0.005, maxiter=1000, init=None)"
   ]
  },
  {
   "cell_type": "code",
   "execution_count": null,
   "id": "e8b55689",
   "metadata": {},
   "outputs": [],
   "source": [
    "# Assign dominant cluster and save results\n",
    "fuzz_membership = u.T\n",
    "dominant_cluster = np.argmax(fuzz_membership, axis=1)\n",
    "clustered_data = pd.DataFrame(umap_result, columns=['Feature_1', 'Feature_2'])\n",
    "clustered_data['fuzzy_cluster'] = dominant_cluster\n",
    "for i in range(n_clusters):\n",
    "    clustered_data[f'fuzzy_membership_{i}'] = fuzz_membership[:, i]\n",
    "clustered_data.to_csv(os.path.join(output_path, 'MEAM_fuzzy_clustered.csv'), index=False)"
   ]
  }
 ],
 "metadata": {},
 "nbformat": 4,
 "nbformat_minor": 5
}
