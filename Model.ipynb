{
 "cells": [
  {
   "cell_type": "markdown",
   "id": "3289fbac",
   "metadata": {},
   "source": [
    "### Model.ipynb\n",
    "Regression: Age × Theme → Mixed Emotions"
   ]
  },
  {
   "cell_type": "code",
   "execution_count": null,
   "id": "90b95e70",
   "metadata": {},
   "outputs": [],
   "source": [
    "import os\n",
    "import pandas as pd\n",
    "import numpy as np\n",
    "import statsmodels.formula.api as smf\n",
    "from scipy.stats import entropy"
   ]
  },
  {
   "cell_type": "code",
   "execution_count": null,
   "id": "59b84b1e",
   "metadata": {},
   "outputs": [],
   "source": [
    "# Set paths\n",
    "root = os.getcwd()\n",
    "emotion_file = os.path.join(root, 'data', 'MEAMdata_complete.xlsx')\n",
    "cluster_file = os.path.join(root, 'output', 'MEAM_fuzzy_clustered.csv')"
   ]
  },
  {
   "cell_type": "code",
   "execution_count": null,
   "id": "9b885b32",
   "metadata": {},
   "outputs": [],
   "source": [
    "# Load data\n",
    "df_main = pd.read_excel(emotion_file)\n",
    "df_cluster = pd.read_csv(cluster_file)\n",
    "# Merge data by index (assumes alignment)\n",
    "df_main = df_main.iloc[:len(df_cluster)].copy()\n",
    "df_main['fuzzy_cluster'] = df_cluster['fuzzy_cluster'].values"
   ]
  },
  {
   "cell_type": "code",
   "execution_count": null,
   "id": "937b5e26",
   "metadata": {},
   "outputs": [],
   "source": [
    "# Compute mixed emotion score (GoEmotion labels)\n",
    "emotion_cols = df_main.columns[61:95]\n",
    "emotion_data = df_main[emotion_cols].apply(pd.to_numeric, errors='coerce')\n",
    "df_main['mixed_emotion_count'] = emotion_data.sum(axis=1)"
   ]
  },
  {
   "cell_type": "code",
   "execution_count": null,
   "id": "02726dc2",
   "metadata": {},
   "outputs": [],
   "source": [
    "# Regression model: Age × Cluster → Mixed Emotion\n",
    "formula = 'mixed_emotion_count ~ Age * C(fuzzy_cluster)'\n",
    "model = smf.ols(formula=formula, data=df_main).fit()\n",
    "print(model.summary())"
   ]
  }
 ],
 "metadata": {},
 "nbformat": 4,
 "nbformat_minor": 5
}
